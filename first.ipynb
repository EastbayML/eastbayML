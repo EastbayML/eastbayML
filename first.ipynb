{
 "cells": [
  {
   "cell_type": "code",
   "execution_count": 3,
   "metadata": {
    "collapsed": false
   },
   "outputs": [
    {
     "name": "stderr",
     "output_type": "stream",
     "text": [
      "Using Theano backend.\n",
      "Using gpu device 0: GeForce GT 750M (CNMeM is disabled, cuDNN not available)\n"
     ]
    }
   ],
   "source": [
    "from __future__ import print_function\n",
    "import numpy as np\n",
    "np.random.seed(1337)  # for reproducibility\n",
    "from keras.models import Sequential\n",
    "from keras.layers import Dense, Dropout, Activation, Flatten\n",
    "from keras.layers import Convolution2D, MaxPooling2D\n",
    "from keras.preprocessing.image import ImageDataGenerator\n",
    "import matplotlib.pyplot as plt"
   ]
  },
  {
   "cell_type": "code",
   "execution_count": 28,
   "metadata": {
    "collapsed": true
   },
   "outputs": [],
   "source": [
    "batch_size = 8\n",
    "nb_classes = 9\n",
    "#image_size=(218,303)\n",
    "#input_shape=(3,218,303)\n",
    "image_size=(128,128)\n",
    "input_shape=(3,128,128)\n",
    "classes=[\"chicken\",\"ostrich\",'bluebird','finch','frog','salemander','cobra','bird','flamingo']"
   ]
  },
  {
   "cell_type": "code",
   "execution_count": 29,
   "metadata": {
    "collapsed": false
   },
   "outputs": [
    {
     "name": "stdout",
     "output_type": "stream",
     "text": [
      "Found 10177 images belonging to 9 classes.\n",
      "Found 1328 images belonging to 9 classes.\n"
     ]
    }
   ],
   "source": [
    "train_datagen = ImageDataGenerator(rescale=1./255)\n",
    "train_generator = train_datagen.flow_from_directory(\n",
    "        '../data/train',\n",
    "        target_size=image_size,\n",
    "        batch_size=batch_size,\n",
    "        class_mode='categorical')\n",
    "test_datagen = ImageDataGenerator(rescale=1./255)\n",
    "test_generator = train_datagen.flow_from_directory(\n",
    "        '../data/val',\n",
    "        target_size=image_size,\n",
    "        batch_size=batch_size,\n",
    "        class_mode='categorical')"
   ]
  },
  {
   "cell_type": "code",
   "execution_count": 30,
   "metadata": {
    "collapsed": true
   },
   "outputs": [],
   "source": [
    "nb_epoch = 12\n",
    "nb_filters=32\n",
    "kernel_size=(3,3)\n",
    "pool_size=(2,2)"
   ]
  },
  {
   "cell_type": "code",
   "execution_count": 31,
   "metadata": {
    "collapsed": false
   },
   "outputs": [],
   "source": [
    "model = Sequential()\n",
    "model.add(Convolution2D(nb_filters, kernel_size[0], kernel_size[1],\n",
    "                        border_mode='valid',\n",
    "                        input_shape=input_shape))\n",
    "model.add(Activation('relu'))\n",
    "model.add(Convolution2D(nb_filters, kernel_size[0], kernel_size[1]))\n",
    "model.add(Activation('relu'))\n",
    "model.add(MaxPooling2D(pool_size=pool_size))\n",
    "model.add(Convolution2D(nb_filters, kernel_size[0], kernel_size[1]))\n",
    "model.add(Activation('relu'))\n",
    "model.add(MaxPooling2D(pool_size=pool_size))\n",
    "model.add(Dropout(0.25))\n",
    "model.add(Flatten())\n",
    "model.add(Dense(128))\n",
    "model.add(Activation('relu'))\n",
    "model.add(Dropout(0.5))\n",
    "model.add(Dense(nb_classes))\n",
    "model.add(Activation('softmax'))"
   ]
  },
  {
   "cell_type": "code",
   "execution_count": 32,
   "metadata": {
    "collapsed": true
   },
   "outputs": [],
   "source": [
    "model.compile(loss='categorical_crossentropy',\n",
    "              optimizer='adadelta',\n",
    "              metrics=['accuracy'])"
   ]
  },
  {
   "cell_type": "code",
   "execution_count": 33,
   "metadata": {
    "collapsed": false,
    "scrolled": true
   },
   "outputs": [
    {
     "name": "stdout",
     "output_type": "stream",
     "text": [
      "Epoch 1/12\n",
      "1000/1000 [==============================] - 29s - loss: 2.1850 - acc: 0.1700    \n",
      "Epoch 2/12\n",
      "1000/1000 [==============================] - 32s - loss: 2.0925 - acc: 0.2330    \n",
      "Epoch 3/12\n",
      "1000/1000 [==============================] - 32s - loss: 1.9602 - acc: 0.2730    \n",
      "Epoch 4/12\n",
      "1000/1000 [==============================] - 33s - loss: 1.8150 - acc: 0.3500    \n",
      "Epoch 5/12\n",
      "1000/1000 [==============================] - 33s - loss: 1.7278 - acc: 0.3990    \n",
      "Epoch 6/12\n",
      "1000/1000 [==============================] - 34s - loss: 1.6571 - acc: 0.4340    \n",
      "Epoch 7/12\n",
      "1000/1000 [==============================] - 34s - loss: 1.5757 - acc: 0.4760    \n",
      "Epoch 8/12\n",
      "1000/1000 [==============================] - 35s - loss: 1.5654 - acc: 0.4490    \n",
      "Epoch 9/12\n",
      "1000/1000 [==============================] - 34s - loss: 1.5040 - acc: 0.4760    \n",
      "Epoch 10/12\n",
      "1000/1000 [==============================] - 34s - loss: 1.5701 - acc: 0.4660    \n",
      "Epoch 11/12\n",
      "1001/1000 [==============================] - 34s - loss: 1.5215 - acc: 0.4905    \n",
      "Epoch 12/12\n",
      "1000/1000 [==============================] - 33s - loss: 1.4557 - acc: 0.5130    \n",
      "Test score: 1.14134091139\n",
      "Test accuracy: 0.5625\n"
     ]
    }
   ],
   "source": [
    "model.fit_generator(train_generator,samples_per_epoch=1000, nb_epoch=nb_epoch)\n",
    "score = model.evaluate_generator(train_generator, val_samples=10)\n",
    "print('Test score:', score[0])\n",
    "print('Test accuracy:', score[1])"
   ]
  },
  {
   "cell_type": "code",
   "execution_count": null,
   "metadata": {
    "collapsed": true
   },
   "outputs": [],
   "source": []
  }
 ],
 "metadata": {
  "kernelspec": {
   "display_name": "Python 2",
   "language": "python",
   "name": "python2"
  },
  "language_info": {
   "codemirror_mode": {
    "name": "ipython",
    "version": 2
   },
   "file_extension": ".py",
   "mimetype": "text/x-python",
   "name": "python",
   "nbconvert_exporter": "python",
   "pygments_lexer": "ipython2",
   "version": "2.7.11"
  }
 },
 "nbformat": 4,
 "nbformat_minor": 0
}
