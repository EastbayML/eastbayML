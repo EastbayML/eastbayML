{
 "cells": [
  {
   "cell_type": "code",
   "execution_count": 1,
   "metadata": {
    "collapsed": false
   },
   "outputs": [
    {
     "name": "stderr",
     "output_type": "stream",
     "text": [
      "Using Theano backend.\n",
      "Using gpu device 0: GRID K520 (CNMeM is disabled, cuDNN 5005)\n"
     ]
    }
   ],
   "source": [
    "from __future__ import print_function\n",
    "import numpy as np\n",
    "np.random.seed(1337)  # for reproducibility\n",
    "\n",
    "from keras.models import Sequential,Model\n",
    "from keras.layers import Dense, Dropout, Activation, Flatten,Input\n",
    "from keras.layers import Convolution2D, MaxPooling2D\n",
    "from keras.preprocessing.image import ImageDataGenerator\n",
    "from keras.applications.resnet50 import ResNet50\n",
    "import matplotlib.pyplot as plt\n",
    "%matplotlib inline"
   ]
  },
  {
   "cell_type": "code",
   "execution_count": 2,
   "metadata": {
    "collapsed": true
   },
   "outputs": [],
   "source": [
    "batch_size = 8\n",
    "nb_classes = 9\n",
    "#image_size=(218,303)\n",
    "#input_shape=(3,218,303)\n",
    "#image_size=(128,128)\n",
    "#input_shape=(3,128,128)\n",
    "image_size=(224,224)\n",
    "input_shape=(3,224,224)\n",
    "classes=[\"chicken\",\"ostrich\",'bluebird','finch','frog','salemander','cobra','bird','flamingo']"
   ]
  },
  {
   "cell_type": "code",
   "execution_count": 3,
   "metadata": {
    "collapsed": false
   },
   "outputs": [
    {
     "name": "stdout",
     "output_type": "stream",
     "text": [
      "Found 10177 images belonging to 9 classes.\n",
      "Found 1328 images belonging to 9 classes.\n"
     ]
    }
   ],
   "source": [
    "train_datagen = ImageDataGenerator(rescale=1./255)\n",
    "train_generator = train_datagen.flow_from_directory(\n",
    "        '../data/cs231n_project/data/train',\n",
    "        target_size=image_size,\n",
    "        batch_size=batch_size,\n",
    "        class_mode='categorical')\n",
    "test_datagen = ImageDataGenerator(rescale=1./255)\n",
    "test_generator = train_datagen.flow_from_directory(\n",
    "        '../data/cs231n_project/data/val',\n",
    "        target_size=image_size,\n",
    "        batch_size=batch_size,\n",
    "        class_mode='categorical')"
   ]
  },
  {
   "cell_type": "code",
   "execution_count": 4,
   "metadata": {
    "collapsed": true
   },
   "outputs": [],
   "source": [
    "nb_epoch = 12\n",
    "nb_filters=32\n",
    "kernel_size=(3,3)\n",
    "pool_size=(2,2)"
   ]
  },
  {
   "cell_type": "code",
   "execution_count": 5,
   "metadata": {
    "collapsed": false
   },
   "outputs": [],
   "source": [
    "resnet_model = ResNet50(weights='imagenet',include_top=False)\n",
    "for layer in resnet_model.layers:\n",
    "    layer.trainable=False\n",
    "img=Input(shape=(3,224,224))\n",
    "x=resnet_model(img)\n",
    "x=Flatten()(x)\n",
    "x=Dense(128)(x)\n",
    "x=Activation('relu')(x)\n",
    "x=Dropout(0.5)(x)\n",
    "x=Dense(nb_classes)(x)\n",
    "x=Activation('softmax')(x)\n",
    "model=Model(input=img,output=x)"
   ]
  },
  {
   "cell_type": "code",
   "execution_count": 6,
   "metadata": {
    "collapsed": true
   },
   "outputs": [],
   "source": [
    "model.compile(loss='categorical_crossentropy',\n",
    "              optimizer='adadelta',\n",
    "              metrics=['accuracy'])"
   ]
  },
  {
   "cell_type": "code",
   "execution_count": 7,
   "metadata": {
    "collapsed": false
   },
   "outputs": [
    {
     "name": "stdout",
     "output_type": "stream",
     "text": [
      "____________________________________________________________________________________________________\n",
      "Layer (type)                     Output Shape          Param #     Connected to                     \n",
      "====================================================================================================\n",
      "input_2 (InputLayer)             (None, 3, 224, 224)   0                                            \n",
      "____________________________________________________________________________________________________\n",
      "resnet50 (Model)                 multiple              23587712    input_2[0][0]                    \n",
      "____________________________________________________________________________________________________\n",
      "flatten_1 (Flatten)              (None, 2048)          0           resnet50[1][0]                   \n",
      "____________________________________________________________________________________________________\n",
      "dense_1 (Dense)                  (None, 128)           262272      flatten_1[0][0]                  \n",
      "____________________________________________________________________________________________________\n",
      "activation_50 (Activation)       (None, 128)           0           dense_1[0][0]                    \n",
      "____________________________________________________________________________________________________\n",
      "dropout_1 (Dropout)              (None, 128)           0           activation_50[0][0]              \n",
      "____________________________________________________________________________________________________\n",
      "dense_2 (Dense)                  (None, 9)             1161        dropout_1[0][0]                  \n",
      "____________________________________________________________________________________________________\n",
      "activation_51 (Activation)       (None, 9)             0           dense_2[0][0]                    \n",
      "====================================================================================================\n",
      "Total params: 23,851,145\n",
      "Trainable params: 263,433\n",
      "Non-trainable params: 23,587,712\n",
      "____________________________________________________________________________________________________\n",
      "None\n"
     ]
    }
   ],
   "source": [
    "print(model.summary())"
   ]
  },
  {
   "cell_type": "code",
   "execution_count": 8,
   "metadata": {
    "collapsed": false,
    "scrolled": true
   },
   "outputs": [
    {
     "name": "stdout",
     "output_type": "stream",
     "text": [
      "Epoch 1/12\n",
      "1000/1000 [==============================] - 24s - loss: 1.4872 - acc: 0.5090 - val_loss: 2.3509 - val_acc: 0.1058\n",
      "Epoch 2/12\n",
      "1000/1000 [==============================] - 24s - loss: 0.7608 - acc: 0.7670 - val_loss: 2.3687 - val_acc: 0.1538\n",
      "Epoch 3/12\n",
      "1000/1000 [==============================] - 24s - loss: 0.6312 - acc: 0.8070 - val_loss: 2.1680 - val_acc: 0.2212\n",
      "Epoch 4/12\n",
      "1000/1000 [==============================] - 24s - loss: 0.4729 - acc: 0.8540 - val_loss: 2.6040 - val_acc: 0.1923\n",
      "Epoch 5/12\n",
      "1000/1000 [==============================] - 24s - loss: 0.4718 - acc: 0.8470 - val_loss: 1.6061 - val_acc: 0.5096\n",
      "Epoch 6/12\n",
      "1000/1000 [==============================] - 24s - loss: 0.4146 - acc: 0.8780 - val_loss: 1.2612 - val_acc: 0.6250\n",
      "Epoch 7/12\n",
      "1000/1000 [==============================] - 24s - loss: 0.4277 - acc: 0.8660 - val_loss: 0.6021 - val_acc: 0.8077\n",
      "Epoch 8/12\n",
      "1000/1000 [==============================] - 24s - loss: 0.4465 - acc: 0.8610 - val_loss: 0.1930 - val_acc: 0.9327\n",
      "Epoch 9/12\n",
      "1000/1000 [==============================] - 24s - loss: 0.3707 - acc: 0.8790 - val_loss: 0.1225 - val_acc: 0.9615\n",
      "Epoch 10/12\n",
      "1000/1000 [==============================] - 24s - loss: 0.3949 - acc: 0.8800 - val_loss: 0.0933 - val_acc: 0.9712\n",
      "Epoch 11/12\n",
      "1001/1000 [==============================] - 24s - loss: 0.3649 - acc: 0.8821 - val_loss: 0.2395 - val_acc: 0.9327\n",
      "Epoch 12/12\n",
      "1000/1000 [==============================] - 24s - loss: 0.3753 - acc: 0.8870 - val_loss: 0.0887 - val_acc: 0.9712\n",
      "Test score: 0.0380849959329\n",
      "Test accuracy: 1.0\n"
     ]
    },
    {
     "name": "stderr",
     "output_type": "stream",
     "text": [
      "/home/ubuntu/anaconda2/lib/python2.7/site-packages/keras/engine/training.py:1573: UserWarning: Epoch comprised more than `samples_per_epoch` samples, which might affect learning results. Set `samples_per_epoch` correctly to avoid this warning.\n",
      "  warnings.warn('Epoch comprised more than '\n"
     ]
    }
   ],
   "source": [
    "hist=model.fit_generator(train_generator,samples_per_epoch=1000, \n",
    "                         validation_data=test_generator,nb_val_samples=100,\n",
    "                         nb_epoch=nb_epoch,verbose=1)\n",
    "score = model.evaluate_generator(test_generator, val_samples=10)\n",
    "print('Test score:', score[0])\n",
    "print('Test accuracy:', score[1])"
   ]
  },
  {
   "cell_type": "code",
   "execution_count": 9,
   "metadata": {
    "collapsed": false
   },
   "outputs": [
    {
     "data": {
      "image/png": "[encoded data removed]",
      "text/plain": [
       "<matplotlib.figure.Figure at 0x7fdfe57e9b90>"
      ]
     },
     "metadata": {},
     "output_type": "display_data"
    },
    {
     "name": "stdout",
     "output_type": "stream",
     "text": [
      "Max Train acc: 0.887\n",
      "Max Val   acc: 0.971153846154\n"
     ]
    },
    {
     "data": {
      "image/png": "[encoded data removed]",
      "text/plain": [
       "<matplotlib.figure.Figure at 0x7fdfe47b4110>"
      ]
     },
     "metadata": {},
     "output_type": "display_data"
    }
   ],
   "source": [
    "plt.plot(hist.history['loss'])\n",
    "plt.plot(hist.history['val_loss'])\n",
    "plt.show()\n",
    "print (\"Max Train acc:\",np.max(hist.history['acc']))\n",
    "print (\"Max Val   acc:\",np.max(hist.history['val_acc']))\n",
    "plt.plot(hist.history['acc'])\n",
    "plt.plot(hist.history['val_acc'])\n",
    "plt.show()"
   ]
  },
  {
   "cell_type": "code",
   "execution_count": 10,
   "metadata": {
    "collapsed": false
   },
   "outputs": [
    {
     "name": "stdout",
     "output_type": "stream",
     "text": [
      "Test score: 0.227087415826\n",
      "Test accuracy: 0.932692307692\n"
     ]
    }
   ],
   "source": [
    "score = model.evaluate_generator(test_generator, val_samples=100)\n",
    "print('Test score:', score[0])\n",
    "print('Test accuracy:', score[1])"
   ]
  }
 ],
 "metadata": {
  "kernelspec": {
   "display_name": "Python 2",
   "language": "python",
   "name": "python2"
  },
  "language_info": {
   "codemirror_mode": {
    "name": "ipython",
    "version": 2
   },
   "file_extension": ".py",
   "mimetype": "text/x-python",
   "name": "python",
   "nbconvert_exporter": "python",
   "pygments_lexer": "ipython2",
   "version": "2.7.12"
  }
 },
 "nbformat": 4,
 "nbformat_minor": 0
}
