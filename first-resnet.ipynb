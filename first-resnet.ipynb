{
 "cells": [
  {
   "cell_type": "code",
   "execution_count": 1,
   "metadata": {
    "collapsed": false
   },
   "outputs": [
    {
     "name": "stderr",
     "output_type": "stream",
     "text": [
      "Using Theano backend.\n",
      "Using gpu device 0: GRID K520 (CNMeM is disabled, cuDNN 5005)\n"
     ]
    }
   ],
   "source": [
    "from __future__ import print_function\n",
    "import numpy as np\n",
    "np.random.seed(1337)  # for reproducibility\n",
    "\n",
    "from keras.models import Sequential,Model\n",
    "from keras.layers import Dense, Dropout, Activation, Flatten,Input\n",
    "from keras.layers import Convolution2D, MaxPooling2D\n",
    "from keras.preprocessing.image import ImageDataGenerator\n",
    "from keras.applications.resnet50 import ResNet50\n",
    "import matplotlib.pyplot as plt\n",
    "%matplotlib inline"
   ]
  },
  {
   "cell_type": "code",
   "execution_count": 2,
   "metadata": {
    "collapsed": true
   },
   "outputs": [],
   "source": [
    "batch_size = 8\n",
    "nb_classes = 9\n",
    "#image_size=(218,303)\n",
    "#input_shape=(3,218,303)\n",
    "#image_size=(128,128)\n",
    "#input_shape=(3,128,128)\n",
    "image_size=(224,224)\n",
    "input_shape=(3,224,224)\n",
    "classes=[\"chicken\",\"ostrich\",'bluebird','finch','frog','salemander','cobra','bird','flamingo']"
   ]
  },
  {
   "cell_type": "code",
   "execution_count": 3,
   "metadata": {
    "collapsed": false
   },
   "outputs": [
    {
     "name": "stdout",
     "output_type": "stream",
     "text": [
      "Found 10177 images belonging to 9 classes.\n",
      "Found 1328 images belonging to 9 classes.\n"
     ]
    }
   ],
   "source": [
    "train_datagen = ImageDataGenerator(rescale=1./255)\n",
    "train_generator = train_datagen.flow_from_directory(\n",
    "        '../data/cs231n_project/data/train',\n",
    "        target_size=image_size,\n",
    "        batch_size=batch_size,\n",
    "        class_mode='categorical')\n",
    "test_datagen = ImageDataGenerator(rescale=1./255)\n",
    "test_generator = train_datagen.flow_from_directory(\n",
    "        '../data/cs231n_project/data/val',\n",
    "        target_size=image_size,\n",
    "        batch_size=batch_size,\n",
    "        class_mode='categorical')"
   ]
  },
  {
   "cell_type": "code",
   "execution_count": 4,
   "metadata": {
    "collapsed": true
   },
   "outputs": [],
   "source": [
    "nb_epoch = 30\n",
    "nb_filters=32\n",
    "kernel_size=(3,3)\n",
    "pool_size=(2,2)"
   ]
  },
  {
   "cell_type": "code",
   "execution_count": 5,
   "metadata": {
    "collapsed": false
   },
   "outputs": [
    {
     "name": "stdout",
     "output_type": "stream",
     "text": [
      "(None, 2048, None, None)\n"
     ]
    }
   ],
   "source": [
    "img=Input((3,224,224))\n",
    "resnet_model = ResNet50(weights='imagenet',include_top=False)\n",
    "print (resnet_model.output_shape)\n",
    "middle=Input((2048,1,1))\n",
    "x=Flatten()(middle)\n",
    "x=Dense(128)(x)\n",
    "x=Activation('relu')(x)\n",
    "x=Dropout(0.5)(x)\n",
    "x=Dense(nb_classes)(x)\n",
    "x=Activation('softmax')(x)\n",
    "top_model=Model(input=middle,output=x,name=\"topmodel\")\n",
    "model=Model(input=img,output=top_model(resnet_model(img)))"
   ]
  },
  {
   "cell_type": "code",
   "execution_count": null,
   "metadata": {
    "collapsed": false
   },
   "outputs": [
    {
     "name": "stdout",
     "output_type": "stream",
     "text": [
      "____________________________________________________________________________________________________\n",
      "Layer (type)                     Output Shape          Param #     Connected to                     \n",
      "====================================================================================================\n",
      "input_1 (InputLayer)             (None, 3, 224, 224)   0                                            \n",
      "____________________________________________________________________________________________________\n",
      "resnet50 (Model)                 multiple              23587712    input_1[0][0]                    \n",
      "____________________________________________________________________________________________________\n",
      "topmodel (Model)                 (None, 9)             263433      resnet50[1][0]                   \n",
      "====================================================================================================\n",
      "Total params: 23,851,145\n",
      "Trainable params: 23,798,025\n",
      "Non-trainable params: 53,120\n",
      "____________________________________________________________________________________________________\n",
      "None\n"
     ]
    }
   ],
   "source": [
    "model.compile(loss='categorical_crossentropy',\n",
    "              optimizer='adadelta',\n",
    "              metrics=['accuracy'])\n",
    "#print(resent_model.summary())\n",
    "#print(top_model.summary())\n",
    "print(model.summary())"
   ]
  },
  {
   "cell_type": "code",
   "execution_count": null,
   "metadata": {
    "collapsed": false,
    "scrolled": true
   },
   "outputs": [
    {
     "name": "stdout",
     "output_type": "stream",
     "text": [
      "Epoch 1/30\n",
      "1000/1000 [==============================] - 91s - loss: 1.4656 - acc: 0.5610 - val_loss: 2.5368 - val_acc: 0.1058\n",
      "Epoch 2/30\n",
      "1000/1000 [==============================] - 90s - loss: 1.0290 - acc: 0.7100 - val_loss: 5.3723 - val_acc: 0.1058\n",
      "Epoch 3/30\n",
      "1000/1000 [==============================] - 90s - loss: 0.8137 - acc: 0.7560 - val_loss: 3.1098 - val_acc: 0.0769\n",
      "Epoch 4/30\n",
      "1000/1000 [==============================] - 91s - loss: 0.7542 - acc: 0.7730 - val_loss: 3.7843 - val_acc: 0.0769\n",
      "Epoch 5/30\n",
      "1000/1000 [==============================] - 90s - loss: 0.7068 - acc: 0.7750 - val_loss: 4.6630 - val_acc: 0.1538\n",
      "Epoch 6/30\n",
      "1000/1000 [==============================] - 90s - loss: 0.5795 - acc: 0.8260 - val_loss: 2.8741 - val_acc: 0.2981\n",
      "Epoch 7/30\n",
      "1000/1000 [==============================] - 89s - loss: 0.6869 - acc: 0.8070 - val_loss: 1.9105 - val_acc: 0.5288\n",
      "Epoch 8/30\n",
      "1000/1000 [==============================] - 89s - loss: 0.5735 - acc: 0.8460 - val_loss: 2.3272 - val_acc: 0.6250\n",
      "Epoch 9/30\n",
      "1000/1000 [==============================] - 89s - loss: 0.5270 - acc: 0.8440 - val_loss: 1.1680 - val_acc: 0.6827\n",
      "Epoch 10/30\n",
      "1000/1000 [==============================] - 89s - loss: 0.5602 - acc: 0.8320 - val_loss: 0.9572 - val_acc: 0.8269\n",
      "Epoch 11/30\n",
      "1001/1000 [==============================] - 89s - loss: 0.4077 - acc: 0.8831 - val_loss: 1.2742 - val_acc: 0.7692\n",
      "Epoch 12/30\n",
      "1000/1000 [==============================] - 89s - loss: 0.4788 - acc: 0.8700 - val_loss: 0.3511 - val_acc: 0.8846\n",
      "Epoch 13/30\n",
      "1000/1000 [==============================] - 89s - loss: 0.4323 - acc: 0.8660 - val_loss: 0.4862 - val_acc: 0.8750\n",
      "Epoch 14/30\n",
      "1000/1000 [==============================] - 89s - loss: 0.4734 - acc: 0.8550 - val_loss: 0.6686 - val_acc: 0.8077\n",
      "Epoch 15/30\n",
      "1000/1000 [==============================] - 89s - loss: 0.3888 - acc: 0.8830 - val_loss: 0.4461 - val_acc: 0.8846\n",
      "Epoch 16/30\n",
      "1000/1000 [==============================] - 89s - loss: 0.4543 - acc: 0.8660 - val_loss: 0.2277 - val_acc: 0.9231\n",
      "Epoch 17/30\n",
      "1000/1000 [==============================] - 89s - loss: 0.3874 - acc: 0.8800 - val_loss: 0.5743 - val_acc: 0.8654\n",
      "Epoch 18/30\n",
      "1000/1000 [==============================] - 89s - loss: 0.3620 - acc: 0.8990 - val_loss: 0.7315 - val_acc: 0.8558\n",
      "Epoch 19/30\n",
      "1000/1000 [==============================] - 90s - loss: 0.3997 - acc: 0.8900 - val_loss: 0.2735 - val_acc: 0.9135\n",
      "Epoch 20/30\n",
      "1000/1000 [==============================] - 89s - loss: 0.3518 - acc: 0.8930 - val_loss: 0.7887 - val_acc: 0.8750\n",
      "Epoch 21/30\n",
      "1001/1000 [==============================] - 89s - loss: 0.3492 - acc: 0.9081 - val_loss: 0.6870 - val_acc: 0.8750\n",
      "Epoch 22/30\n",
      "1000/1000 [==============================] - 89s - loss: 0.2507 - acc: 0.9280 - val_loss: 0.3755 - val_acc: 0.8846\n",
      "Epoch 23/30\n",
      "1000/1000 [==============================] - 89s - loss: 0.3172 - acc: 0.9190 - val_loss: 0.9098 - val_acc: 0.8654\n",
      "Epoch 24/30\n",
      "1000/1000 [==============================] - 89s - loss: 0.2196 - acc: 0.9370 - val_loss: 0.5569 - val_acc: 0.8942\n",
      "Epoch 25/30\n",
      "1000/1000 [==============================] - 89s - loss: 0.2558 - acc: 0.9310 - val_loss: 0.7931 - val_acc: 0.8942\n",
      "Epoch 26/30\n",
      "1000/1000 [==============================] - 89s - loss: 0.2918 - acc: 0.9070 - val_loss: 1.4295 - val_acc: 0.8558\n",
      "Epoch 27/30\n",
      " 672/1000 [===================>..........] - ETA: 28s - loss: 0.3308 - acc: 0.9226"
     ]
    }
   ],
   "source": [
    "#first train all layers\n",
    "trainall_hist=model.fit_generator(train_generator,samples_per_epoch=1000, \n",
    "                         validation_data=test_generator,nb_val_samples=100,\n",
    "                         nb_epoch=nb_epoch,verbose=1)\n",
    "trainall_score = model.evaluate_generator(test_generator, val_samples=100)\n",
    "print('Test score:', trainall_score[0])\n",
    "print('Test accuracy:', trainall_score[1])"
   ]
  },
  {
   "cell_type": "code",
   "execution_count": null,
   "metadata": {
    "collapsed": true
   },
   "outputs": [],
   "source": [
    "# now try with resnet frozen\n",
    "for layer in resnet_model.layers:\n",
    "    layer.trainable=False"
   ]
  },
  {
   "cell_type": "code",
   "execution_count": null,
   "metadata": {
    "collapsed": false
   },
   "outputs": [],
   "source": [
    "model.compile(loss='categorical_crossentropy',\n",
    "              optimizer='adadelta',\n",
    "              metrics=['accuracy'])\n",
    "print(model.summary())"
   ]
  },
  {
   "cell_type": "code",
   "execution_count": null,
   "metadata": {
    "collapsed": false
   },
   "outputs": [],
   "source": [
    "#now just train the top layers\n",
    "traintop_hist=model.fit_generator(train_generator,samples_per_epoch=1000, \n",
    "                         validation_data=test_generator,nb_val_samples=100,\n",
    "                         nb_epoch=nb_epoch,verbose=1)\n",
    "traintop_score = model.evaluate_generator(test_generator, val_samples=100)\n",
    "print('Test score:', traintop_score[0])\n",
    "print('Test accuracy:', traintop_score[1])"
   ]
  },
  {
   "cell_type": "code",
   "execution_count": null,
   "metadata": {
    "collapsed": true
   },
   "outputs": [],
   "source": [
    "#now try spit training, training top first, then resnet\n",
    "#resnet frozen\n",
    "for layer in resnet_model.layers:\n",
    "    layer.trainable=False"
   ]
  },
  {
   "cell_type": "code",
   "execution_count": null,
   "metadata": {
    "collapsed": false
   },
   "outputs": [],
   "source": [
    "model.compile(loss='categorical_crossentropy',\n",
    "              optimizer='adadelta',\n",
    "              metrics=['accuracy'])\n",
    "print(model.summary())"
   ]
  },
  {
   "cell_type": "code",
   "execution_count": null,
   "metadata": {
    "collapsed": false
   },
   "outputs": [],
   "source": [
    "trainsplittop_hist=model.fit_generator(train_generator,samples_per_epoch=1000, \n",
    "                         validation_data=test_generator,nb_val_samples=100,\n",
    "                         nb_epoch=nb_epoch/2,verbose=1)\n",
    "trainsplittop_score = model.evaluate_generator(test_generator, val_samples=100)\n",
    "print('Test score:', trainsplittop_score[0])\n",
    "print('Test accuracy:', trainsplittop_score[1])"
   ]
  },
  {
   "cell_type": "code",
   "execution_count": null,
   "metadata": {
    "collapsed": false
   },
   "outputs": [],
   "source": [
    "top_model.save_weights(\"temp\")"
   ]
  },
  {
   "cell_type": "code",
   "execution_count": null,
   "metadata": {
    "collapsed": false
   },
   "outputs": [],
   "source": [
    "#resnet frozen\n",
    "for layer in resnet_model.layers:\n",
    "    layer.trainable=True"
   ]
  },
  {
   "cell_type": "code",
   "execution_count": null,
   "metadata": {
    "collapsed": false
   },
   "outputs": [],
   "source": [
    "model.compile(loss='categorical_crossentropy',\n",
    "              optimizer='adadelta',\n",
    "              metrics=['accuracy'])\n",
    "top_model.load_weights(\"temp\", by_name=True)\n",
    "print(model.summary())"
   ]
  },
  {
   "cell_type": "code",
   "execution_count": null,
   "metadata": {
    "collapsed": false
   },
   "outputs": [],
   "source": [
    "model.load_weights(\"temp\", by_name=True)"
   ]
  },
  {
   "cell_type": "code",
   "execution_count": null,
   "metadata": {
    "collapsed": false
   },
   "outputs": [],
   "source": [
    "trainsplitfull_hist=model.fit_generator(train_generator,samples_per_epoch=1000, \n",
    "                         validation_data=test_generator,nb_val_samples=100,\n",
    "                         nb_epoch=nb_epoch/2,verbose=1)\n",
    "trainsplitfull_score = model.evaluate_generator(test_generator, val_samples=10)\n",
    "print('Test score:', trainsplitfull_score[0])\n",
    "print('Test accuracy:', trainsplitfull_score[1])"
   ]
  },
  {
   "cell_type": "code",
   "execution_count": null,
   "metadata": {
    "collapsed": false
   },
   "outputs": [],
   "source": [
    "\n",
    "f, axarr = plt.subplots(3,figsize=(12, 12))\n",
    "labelx=0\n",
    "labely=.1\n",
    "axarr[0].set_title('Train all layers')\n",
    "axarr[0].text(labelx, labely, 'Test score: {}'.format(trainall_score[0]))\n",
    "axarr[0].text(labelx, labely*2, 'Test accuracy: {}  '.format(trainall_score[1]))\n",
    "axarr[0].text(labelx, labely*3, 'Max Train acc: {}'.format(np.max(trainall_hist.history['acc'])))\n",
    "axarr[0].text(labelx, labely*4, 'Max Val   acc: {} '.format(np.max(trainall_hist.history['val_acc'])))\n",
    "axarr[0].plot(trainall_hist.history['acc'])\n",
    "axarr[0].plot(trainall_hist.history['val_acc'])\n",
    "\n",
    "axarr[1].set_title('Train top layers')\n",
    "axarr[1].text(labelx, labely, 'Test score: {}'.format(trainall_score[0]))\n",
    "axarr[1].text(labelx, labely*2, 'Test accuracy: {}  '.format(trainall_score[1]))\n",
    "axarr[1].text(labelx, labely*3, 'Max Train acc: {}'.format(np.max(traintop_hist.history['acc'])))\n",
    "axarr[1].text(labelx, labely*4, 'Max Val   acc: {} '.format(np.max(traintop_hist.history['val_acc'])))\n",
    "axarr[1].plot(traintop_hist.history['acc'])\n",
    "axarr[1].plot(traintop_hist.history['val_acc'])\n",
    "\n",
    "axarr[2].set_title('Train top,then all layers')\n",
    "acc=np.concatenate([trainsplittop_hist.history['acc'],trainsplitfull_hist.history['acc']],axis=0)\n",
    "val_acc=np.concatenate([trainsplittop_hist.history['val_acc'],trainsplitfull_hist.history['val_acc']],axis=0)\n",
    "axarr[2].text(labelx, labely, 'Test score: {}'.format(trainsplitfull_score[0]))\n",
    "axarr[2].text(labelx, labely*2, 'Test accuracy: {}  '.format(trainsplitfull_score[1]))\n",
    "axarr[2].text(labelx, labely*3, 'Max Train acc: {}'.format(acc))\n",
    "axarr[2].text(labelx, labely*4, 'Max Val   acc: {} '.format(val_acc))\n",
    "axarr[2].plot(acc)\n",
    "axarr[2].plot(val_acc)\n"
   ]
  }
 ],
 "metadata": {
  "kernelspec": {
   "display_name": "Python 2",
   "language": "python",
   "name": "python2"
  },
  "language_info": {
   "codemirror_mode": {
    "name": "ipython",
    "version": 2
   },
   "file_extension": ".py",
   "mimetype": "text/x-python",
   "name": "python",
   "nbconvert_exporter": "python",
   "pygments_lexer": "ipython2",
   "version": "2.7.12"
  }
 },
 "nbformat": 4,
 "nbformat_minor": 0
}
